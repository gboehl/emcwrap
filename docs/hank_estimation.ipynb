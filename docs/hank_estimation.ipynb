{
 "cells": [
  {
   "cell_type": "markdown",
   "metadata": {},
   "source": [
    "# Under the hood"
   ]
  },
  {
   "cell_type": "markdown",
   "metadata": {},
   "source": [
    "The methodology extends Auclert et al. (2022, ECMA) to solve the system fully nonlinearly. \n",
    "Most heterogeneous agent models can be expressed in terms of the three functions $V$, $D$ and $F$:\n",
    "\n",
    "$$\n",
    "\\begin{align}\n",
    "v_t =& V(x_{t-1}, x_t, x_{t+1}, v_{t+1})\\\\\n",
    "d_t =& D(x_{t-1}, x_t, x_{t+1}, v_t, d_{t-1})\\\\\n",
    "0 =& f(x_{t-1}, x_t, x_{t+1}, d_t, v_t)\n",
    "\\end{align}\n",
    "$$\n",
    "\n",
    "where $x_t$ is the time-$t$ vector of _aggregate_ variables, with each aggregate variables $x_{i,t}$ indexed over $i \\in 1,2, \\dots, N$. $v_t$ containts the idiosyncratic agents decision functions and $d_t$ is the distribution across agents."
   ]
  },
  {
   "cell_type": "code",
   "execution_count": null,
   "metadata": {},
   "outputs": [],
   "source": []
  }
 ],
 "metadata": {
  "@webio": {
   "lastCommId": null,
   "lastKernelId": null
  },
  "kernelspec": {
   "display_name": "Python 3 (ipykernel)",
   "language": "python",
   "name": "python3"
  },
  "language_info": {
   "codemirror_mode": {
    "name": "ipython",
    "version": 3
   },
   "file_extension": ".py",
   "mimetype": "text/x-python",
   "name": "python",
   "nbconvert_exporter": "python",
   "pygments_lexer": "ipython3",
   "version": "3.10.8"
  }
 },
 "nbformat": 4,
 "nbformat_minor": 2
}
